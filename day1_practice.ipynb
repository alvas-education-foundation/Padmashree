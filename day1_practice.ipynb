{
  "nbformat": 4,
  "nbformat_minor": 0,
  "metadata": {
    "colab": {
      "name": "day1_practice.ipynb",
      "provenance": [],
      "collapsed_sections": [],
      "authorship_tag": "ABX9TyPQ2SrofdQnfqrUbUxifM4C",
      "include_colab_link": true
    },
    "kernelspec": {
      "name": "python3",
      "display_name": "Python 3"
    }
  },
  "cells": [
    {
      "cell_type": "markdown",
      "metadata": {
        "id": "view-in-github",
        "colab_type": "text"
      },
      "source": [
        "<a href=\"https://colab.research.google.com/github/alvas-education-foundation/Padmashree/blob/master/day1_practice.ipynb\" target=\"_parent\"><img src=\"https://colab.research.google.com/assets/colab-badge.svg\" alt=\"Open In Colab\"/></a>"
      ]
    },
    {
      "cell_type": "markdown",
      "metadata": {
        "id": "OmzYbRqi9q7c",
        "colab_type": "text"
      },
      "source": [
        "#1 sum of 2 numbers\n"
      ]
    },
    {
      "cell_type": "code",
      "metadata": {
        "id": "vtJ4qAxKBf5z",
        "colab_type": "code",
        "colab": {}
      },
      "source": [
        "# sum of two nos\n",
        "num1 = int(input(\"Enter first no\"))\n",
        "num2 = int(input(\"Enter second no\"))\n",
        "\n",
        "# Adding the two numbers\n",
        "sum = num1 + num2\n",
        "\n",
        "# Display the sum\n",
        "print('The sum of {0} and {1} is {2}'.format(num1, num2, sum))\n",
        "\n"
      ],
      "execution_count": null,
      "outputs": []
    },
    {
      "cell_type": "markdown",
      "metadata": {
        "id": "RzRyJ542CKse",
        "colab_type": "text"
      },
      "source": [
        "#2 Python program to check if the input year is a leap year or not\n"
      ]
    },
    {
      "cell_type": "code",
      "metadata": {
        "id": "VXc01OCbCV5t",
        "colab_type": "code",
        "colab": {
          "base_uri": "https://localhost:8080/",
          "height": 50
        },
        "outputId": "b7d92967-f4f5-44a5-8e29-efed0de87bcd"
      },
      "source": [
        "# To get year (integer input) from the user\n",
        "year = int(input(\"Enter a year: \"))\n",
        "\n",
        "if ((year % 4) == 0 and (year % 100)  != 0) or ((year % 400) == 0):\n",
        "\n",
        "  print  (\"{0} is a leap year\".format(year))\n",
        "else:\n",
        "    print(\"{0} is not a leap year\".format(year))  \n",
        "\n"
      ],
      "execution_count": null,
      "outputs": [
        {
          "output_type": "stream",
          "text": [
            "Enter a year: 2001\n",
            "2001 is not a leap year\n"
          ],
          "name": "stdout"
        }
      ]
    },
    {
      "cell_type": "markdown",
      "metadata": {
        "id": "ALcYcFS5Eukd",
        "colab_type": "text"
      },
      "source": [
        "#3 Python Program to Generate a Random Number \n",
        "\n"
      ]
    },
    {
      "cell_type": "code",
      "metadata": {
        "id": "vWLAjDFTE2ku",
        "colab_type": "code",
        "colab": {
          "base_uri": "https://localhost:8080/",
          "height": 34
        },
        "outputId": "b1efe6e0-137f-447c-bba7-11ccffa0dc9c"
      },
      "source": [
        "# Program to generate a random number between 0 and 9\n",
        "# import the random module\n",
        "import random\n",
        "print(random.randint(0,9))\n"
      ],
      "execution_count": null,
      "outputs": [
        {
          "output_type": "stream",
          "text": [
            "4\n"
          ],
          "name": "stdout"
        }
      ]
    },
    {
      "cell_type": "markdown",
      "metadata": {
        "id": "D6Zqcfm_FL9d",
        "colab_type": "text"
      },
      "source": [
        "#4 Python Program to Convert Kilometers to Miles \n"
      ]
    },
    {
      "cell_type": "code",
      "metadata": {
        "id": "JBsLSyORFS4X",
        "colab_type": "code",
        "colab": {}
      },
      "source": [
        "# To take kilometers from the user, uncomment the code below\n",
        "kilometers = int(input(\"Enter value in kilometers\"))\n",
        "\n",
        "# conversion factor\n",
        "conv_fac = 0.621371\n",
        "\n",
        "# calculate miles\n",
        "miles = kilometers * conv_fac\n",
        "print('%0.3f kilometers is equal to %0.3f miles' %(kilometers,miles))\n"
      ],
      "execution_count": null,
      "outputs": []
    },
    {
      "cell_type": "markdown",
      "metadata": {
        "id": "pWP5pedC-RZa",
        "colab_type": "text"
      },
      "source": [
        "#5 Python Program to Solve Quadratic Equation "
      ]
    },
    {
      "cell_type": "code",
      "metadata": {
        "id": "9eWu7SZV-de9",
        "colab_type": "code",
        "colab": {
          "base_uri": "https://localhost:8080/",
          "height": 84
        },
        "outputId": "575dc74e-9119-4eda-ddef-70beba4cce7c"
      },
      "source": [
        "# Solve the quadratic equation ax**2 + bx + c = 0\n",
        "# importing  complex math module\n",
        "import cmath\n",
        "\n",
        "# To take coefficient input from the users\n",
        "a = float(input('Enter a: '))\n",
        "b = float(input('Enter b: '))\n",
        "c = float(input('Enter c: '))\n",
        "\n",
        "# calculate the discriminant\n",
        "d = (b**2) - (4*a*c)\n",
        "\n",
        "# find two solutions\n",
        "sol1 = (-b-cmath.sqrt(d))/(2*a)\n",
        "sol2 = (-b+cmath.sqrt(d))/(2*a)\n",
        "\n",
        "print('The solution are {0} and {1}'.format(sol1,sol2))\n"
      ],
      "execution_count": null,
      "outputs": [
        {
          "output_type": "stream",
          "text": [
            "Enter a: 1\n",
            "Enter b: 5\n",
            "Enter c: 3\n",
            "The solution are (-4.302775637731995+0j) and (-0.6972243622680054+0j)\n"
          ],
          "name": "stdout"
        }
      ]
    },
    {
      "cell_type": "markdown",
      "metadata": {
        "id": "mhWK08LQ-naY",
        "colab_type": "text"
      },
      "source": [
        "#6 Python Program to find prime or not using function "
      ]
    },
    {
      "cell_type": "code",
      "metadata": {
        "id": "kwyCflYU-roj",
        "colab_type": "code",
        "colab": {
          "base_uri": "https://localhost:8080/",
          "height": 50
        },
        "outputId": "576d4152-c843-4eb5-ea33-2ae1af253bf1"
      },
      "source": [
        "def test_prime(n):\n",
        "   if (n==1):\n",
        "     return False ;\n",
        "   elif (n==2):\n",
        "     return True ;\n",
        "   else :\n",
        "     for x in range(2,n):\n",
        "        if (n % x==0):\n",
        "            return False\n",
        "            return True\n",
        "no=int(input(\"Enter the number\"))\n",
        "if (test_prime(no)) is True :\n",
        "      print(\" {0} is a prime no\".format(no))\n",
        "else:\n",
        "      print(\" {0} is not a prime no\".format(no))\n",
        "   "
      ],
      "execution_count": null,
      "outputs": [
        {
          "output_type": "stream",
          "text": [
            "Enter the number2\n",
            " 2 is a prime no\n"
          ],
          "name": "stdout"
        }
      ]
    },
    {
      "cell_type": "markdown",
      "metadata": {
        "id": "olJkRqmK_uWz",
        "colab_type": "text"
      },
      "source": [
        "#8 CODING \"\"\"Calculator program\"\"\"\n"
      ]
    },
    {
      "cell_type": "code",
      "metadata": {
        "id": "p6saeV_3_ypB",
        "colab_type": "code",
        "colab": {
          "base_uri": "https://localhost:8080/",
          "height": 128
        },
        "outputId": "d5029c6f-9e0e-4cad-acfa-735d6a894306"
      },
      "source": [
        "loop = 1 # 1 means loop; anything else means don't loop.\n",
        "choice = 0 # This variable holds the user's choice in the menu\n",
        "\n",
        "def add(a,b):\n",
        " return a+b\n",
        "def sub(a,b):\n",
        " return a-b\n",
        "def mul(a,b):\n",
        " return a*b\n",
        "def div(a,b):\n",
        " return a/b\n",
        "\n",
        "while loop == 1:\n",
        "# Print what options you have\n",
        "       print(\"Welcome to calculator.py\")\n",
        "print(\"your options are:\")\n",
        "print(\"\")\n",
        "print(\"1) Addition\")\n",
        "print(\"2) Subtraction\")\n",
        "print(\"3) Multiplication\")\n",
        "print(\"4) Division\")\n",
        "print(\"5) Quit calculator.py\")\n",
        "print(\"\")\n",
        "try:\n",
        "     choice = int ( input(\"Choose your option: \"))\n",
        "except:\n",
        "    print('please enter a valid number for option')\n",
        "    print(\"\")\n",
        "    print(\"\")\n",
        "if choice == 1:\n",
        "       x = int(input(\"Enter 1st no: \"))\n",
        "       y = int(input(\"Enter 2nd no: \"))\n",
        "print(\"The answer is \",add(x,y))\n",
        "\n",
        "  elif choice == 2:\n",
        "        x = int(input(\"Enter 1st no: \"))\n",
        "        y = int(input(\"Enter 2nd no: \"))\n",
        "print(\"answer is \",sub(x,y))\n",
        "\n",
        "elif choice == 3:\n",
        "x = int(input(\"Enter 1st no: \"))\n",
        "y = int(input(\"Enter 2nd no: \"))\n",
        "print(\"answer is \",mul(x,y))\n",
        "\n",
        "elif choice == 4:\n",
        "x = int(input(\"Enter 1st no: \"))\n",
        "y = int(input(\"Enter 2nd no: \"))\n",
        "print(\"answer is \",div(x,y))\n",
        "\n",
        "elif choice == 5:\n",
        "loop = 0\n",
        "\n",
        "else:\n",
        "print(\"please choice a valid option from 1 to 5\")\n",
        "choice=0\n",
        "print (\"Thank-you for using calculator.py!\")\n"
      ],
      "execution_count": null,
      "outputs": [
        {
          "output_type": "error",
          "ename": "IndentationError",
          "evalue": "ignored",
          "traceback": [
            "\u001b[0;36m  File \u001b[0;32m\"<ipython-input-40-4d9cd5c2f824>\"\u001b[0;36m, line \u001b[0;32m35\u001b[0m\n\u001b[0;31m    elif choice == 2:\u001b[0m\n\u001b[0m    ^\u001b[0m\n\u001b[0;31mIndentationError\u001b[0m\u001b[0;31m:\u001b[0m unexpected indent\n"
          ]
        }
      ]
    }
  ]
}