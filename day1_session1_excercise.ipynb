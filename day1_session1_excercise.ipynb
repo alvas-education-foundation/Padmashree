{
  "nbformat": 4,
  "nbformat_minor": 0,
  "metadata": {
    "colab": {
      "name": "day1_session1_excercise.ipynb",
      "provenance": [],
      "collapsed_sections": [],
      "authorship_tag": "ABX9TyPdcM+KND0L0XIm26ETczGn",
      "include_colab_link": true
    },
    "kernelspec": {
      "name": "python3",
      "display_name": "Python 3"
    }
  },
  "cells": [
    {
      "cell_type": "markdown",
      "metadata": {
        "id": "view-in-github",
        "colab_type": "text"
      },
      "source": [
        "<a href=\"https://colab.research.google.com/github/alvas-education-foundation/Padmashree/blob/master/day1_session1_excercise.ipynb\" target=\"_parent\"><img src=\"https://colab.research.google.com/assets/colab-badge.svg\" alt=\"Open In Colab\"/></a>"
      ]
    },
    {
      "cell_type": "markdown",
      "metadata": {
        "id": "7rqFItLi6twD",
        "colab_type": "text"
      },
      "source": [
        "#1 Find the compound interest for the given p,n,r"
      ]
    },
    {
      "cell_type": "code",
      "metadata": {
        "id": "KdeSGEEr6x-_",
        "colab_type": "code",
        "colab": {
          "base_uri": "https://localhost:8080/",
          "height": 84
        },
        "outputId": "cc9569f3-14b2-41a6-82c6-8c4356904d42"
      },
      "source": [
        "p=float(input(\"Enter the principle amount: \"))\n",
        "#Rate of interest\n",
        "r=float(input(\"Enter the Rate of interest: \"))\n",
        "#number of years\n",
        "n=float(input(\"Enter number of years: \"))\n",
        "#compound interest\n",
        "print(\"coumpund interest is {:.2f}\".format(p * (pow((1 + r / 100), n)) ))"
      ],
      "execution_count": null,
      "outputs": [
        {
          "output_type": "stream",
          "text": [
            "Enter the principle amount: 2500\n",
            "Enter the Rate of interest: 24\n",
            "Enter number of years: 1\n",
            "coumpund interest is 3100.00\n"
          ],
          "name": "stdout"
        }
      ]
    },
    {
      "cell_type": "markdown",
      "metadata": {
        "id": "5mHSXfYe6-bi",
        "colab_type": "text"
      },
      "source": [
        "#2 Convert centegrade to farenheit"
      ]
    },
    {
      "cell_type": "code",
      "metadata": {
        "id": "sqfy4Lvw7C5q",
        "colab_type": "code",
        "colab": {
          "base_uri": "https://localhost:8080/",
          "height": 50
        },
        "outputId": "7a274825-ef25-4c0a-96f1-4a6c0b61ae6c"
      },
      "source": [
        "#temperature in celcius \n",
        "celcius=float(input(\"Enter temperature in celsius: \"))\n",
        "#temperature in Fahrenheit\n",
        "print(\"{:.2f} Celcius is {:.2f} Fahrenheit\".format(celcius,(9/5*celcius)+32))"
      ],
      "execution_count": null,
      "outputs": [
        {
          "output_type": "stream",
          "text": [
            "Enter temperature in celsius: 27\n",
            "27.00 Celcius is 80.60 Fahrenheit\n"
          ],
          "name": "stdout"
        }
      ]
    },
    {
      "cell_type": "markdown",
      "metadata": {
        "id": "7eLVNjUT7Qlw",
        "colab_type": "text"
      },
      "source": [
        "#3 Find the greater of two nos\n"
      ]
    },
    {
      "cell_type": "code",
      "metadata": {
        "id": "xcd5BTvT7Vm8",
        "colab_type": "code",
        "colab": {
          "base_uri": "https://localhost:8080/",
          "height": 67
        },
        "outputId": "1b4d9d24-c3b4-459d-8b01-9ee876a0baf3"
      },
      "source": [
        "#1st number\n",
        "a=float(input(\"enter the first number: \"))\n",
        "#2nd number\n",
        "b=float(input(\"enter the second number: \"))\n",
        "print(\"the greater number is : {} \".format(max(a,b)))"
      ],
      "execution_count": null,
      "outputs": [
        {
          "output_type": "stream",
          "text": [
            "enter the first number: 25\n",
            "enter the second number: 50\n",
            "the greater number is : 50.0 \n"
          ],
          "name": "stdout"
        }
      ]
    },
    {
      "cell_type": "markdown",
      "metadata": {
        "id": "8g1Fkem27kdU",
        "colab_type": "text"
      },
      "source": [
        "#4 Write a program for finding surface areas of cylinder and cone (2*PI*r*r*h, 1/3*PI*r*r*h) using function.\n"
      ]
    },
    {
      "cell_type": "code",
      "metadata": {
        "id": "2dkk9kjJ7wTp",
        "colab_type": "code",
        "colab": {
          "base_uri": "https://localhost:8080/",
          "height": 67
        },
        "outputId": "2e438e57-67cb-49c9-be08-a70e9d0024c2"
      },
      "source": [
        "#import math\n",
        "import math\n",
        "PI=math.pi\n",
        "#area of cylinder \n",
        "def areaCylinder(PI,r,h):\n",
        "  return 2*PI*r*r*h\n",
        "#area of cone\n",
        "def areaCone(PI,r,h):\n",
        "  return 1/3*PI*r*r*h\n",
        "r=float(input(\"enter the radius: \"))\n",
        "h=float(input(\"enter the height: \"))\n",
        "print(\"the areas of cylinder and cone are {:.2f} {:.2f} \".format(areaCylinder(PI,r,h),areaCone(PI,r,h)))"
      ],
      "execution_count": null,
      "outputs": [
        {
          "output_type": "stream",
          "text": [
            "enter the radius: 2.5\n",
            "enter the height: 10\n",
            "the areas of cylinder and cone are 392.70 65.45 \n"
          ],
          "name": "stdout"
        }
      ]
    },
    {
      "cell_type": "markdown",
      "metadata": {
        "id": "0kmVTY5R8Idt",
        "colab_type": "text"
      },
      "source": [
        "#5 Find the greatest of four nos ( using ‘and’ operator) using function"
      ]
    },
    {
      "cell_type": "code",
      "metadata": {
        "id": "M8CSPUre8QUJ",
        "colab_type": "code",
        "colab": {
          "base_uri": "https://localhost:8080/",
          "height": 101
        },
        "outputId": "a007677d-81df-45be-ee34-5ad110f95ca4"
      },
      "source": [
        "def greatest(a,b,c,d):\n",
        "  if ((a>b) and (a>c) and (a>d)):\n",
        "    return \"the greater number is {}\".format(a)\n",
        "  elif (b>a) and (b>c) and (b>d):\n",
        "    return \"the greater number is {}\".format(b)\n",
        "  elif (c>b) and (c>a) and (c>d):\n",
        "    return \"the greater number is {}\".format(c)\n",
        "  else:\n",
        "    return \"the greater number is {}\".format(d)\n",
        "a=float (input(\"enter the firtst number: \"))\n",
        "b=float (input(\"enter the second number: \"))\n",
        "c=float (input(\"enter the third number: \"))\n",
        "d=float (input(\"enter the last number: \"))\n",
        "print(greatest(a,b,c,d))"
      ],
      "execution_count": null,
      "outputs": [
        {
          "output_type": "stream",
          "text": [
            "enter the firtst number: 22\n",
            "enter the second number: 33\n",
            "enter the third number: 55\n",
            "enter the last number: 44\n",
            "the greater number is 55.0\n"
          ],
          "name": "stdout"
        }
      ]
    },
    {
      "cell_type": "markdown",
      "metadata": {
        "id": "SyA6VBTe8YO1",
        "colab_type": "text"
      },
      "source": [
        "#6 Write a menu program to perform the operations ( ODDorEven, Factorial, ODDNoUptoN, PrimeUptoN ) using functions for two nos with menu choice"
      ]
    },
    {
      "cell_type": "code",
      "metadata": {
        "id": "vdvMhj7v8eq1",
        "colab_type": "code",
        "colab": {
          "base_uri": "https://localhost:8080/",
          "height": 269
        },
        "outputId": "3df958a4-e989-410d-9565-cfbc5e014743"
      },
      "source": [
        "loop = 1 # 1 means loop; anything else means don't loop.\n",
        "choice = 0 # This variable holds the user's choice in the menu\n",
        "\n",
        "def oddEven(n):\n",
        "  if n%2==0:\n",
        "    return \"the number {} is even \".format(n)\n",
        "  else:\n",
        "    return \"the number {} is odd \".format(n)\n",
        "\n",
        "\n",
        "def fact(n):\n",
        "  return math.factorial(int(n))\n",
        "\n",
        "def oddNoUptoN(n):\n",
        "  for i in range(n+1):\n",
        "    if i % 2 != 0: \n",
        "        return i\n",
        "\n",
        "def primeUptoN(n):\n",
        "  for val in range(0,n+1): \n",
        "    if val > 1: \n",
        "      for i in range(2, val//2 + 2): \n",
        "        if (val % i) == 0: \n",
        "          break\n",
        "        else: \n",
        "          if i == val//2 + 1: \n",
        "            print(val) \n",
        "\n",
        "\n",
        "\n",
        "\n",
        "while loop==1:\n",
        "  # Print what options you have\n",
        "  print(\"your options are:\")\n",
        "  print(\" \")\n",
        "  print(\"1) ODDorEven\")\n",
        "  print(\"2) Factorial\")\n",
        "  print(\"3) ODDNoUptoN\")\n",
        "  print(\"4) PrimeUptoN\")\n",
        "  print(\"5) Quit operations.py\")\n",
        "  print(\" \")\n",
        "  try:\n",
        "    choice = int(input(\"choose your options: \"))\n",
        "  except:\n",
        "    print('please enter a valid number for option')\n",
        "    print(\" \")\n",
        "    print(\" \")\n",
        "  if choice == 1:\n",
        "    n = int(input(\"Enter the number: \"))\n",
        "    print(oddEven(n))\n",
        "  elif choice == 2:\n",
        "    n = int(input(\"Enter the number: \"))\n",
        "    print(fact(n))\n",
        "  elif choice == 3:\n",
        "    n = int(input(\"Enter the number: \"))\n",
        "    a = oddNoUptoN(n)\n",
        "    print(a)\n",
        "  elif choice == 4:\n",
        "    n = int(input(\"Enter the number: \"))\n",
        "    print(primeUptoN(n))\n",
        "  elif choice ==5:\n",
        "    loop=0\n",
        "  else:\n",
        "    print(\"please choice a valid option from 1 to 5\")\n",
        "    choice=0\n",
        "print (\"Thank-you!\")"
      ],
      "execution_count": null,
      "outputs": [
        {
          "output_type": "stream",
          "text": [
            "please enter a valid number for option\n",
            " \n",
            " \n",
            "Enter the number: 3\n",
            "1\n",
            "your options are:\n",
            " \n",
            "1) ODDorEven\n",
            "2) Factorial\n",
            "3) ODDNoUptoN\n",
            "4) PrimeUptoN\n",
            "5) Quit operations.py\n",
            " \n",
            "choose your options: 5\n",
            "Thank-you!\n"
          ],
          "name": "stdout"
        }
      ]
    }
  ]
}