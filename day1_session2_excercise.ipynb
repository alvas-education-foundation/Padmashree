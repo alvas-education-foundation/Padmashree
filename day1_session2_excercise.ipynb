{
  "nbformat": 4,
  "nbformat_minor": 0,
  "metadata": {
    "colab": {
      "name": "day1_session2_excercise.ipynb",
      "provenance": [],
      "collapsed_sections": [],
      "authorship_tag": "ABX9TyN3K6KcOMhcsvFI1QNH5DDS",
      "include_colab_link": true
    },
    "kernelspec": {
      "name": "python3",
      "display_name": "Python 3"
    }
  },
  "cells": [
    {
      "cell_type": "markdown",
      "metadata": {
        "id": "view-in-github",
        "colab_type": "text"
      },
      "source": [
        "<a href=\"https://colab.research.google.com/github/alvas-education-foundation/Padmashree/blob/master/day1_session2_excercise.ipynb\" target=\"_parent\"><img src=\"https://colab.research.google.com/assets/colab-badge.svg\" alt=\"Open In Colab\"/></a>"
      ]
    },
    {
      "cell_type": "markdown",
      "metadata": {
        "id": "swX1ccd425M8",
        "colab_type": "text"
      },
      "source": [
        ""
      ]
    },
    {
      "cell_type": "markdown",
      "metadata": {
        "id": "OA-0DiHc27YU",
        "colab_type": "text"
      },
      "source": [
        "# 1 Write a program to print the triangle i/p  4"
      ]
    },
    {
      "cell_type": "code",
      "metadata": {
        "id": "lWZlMcN53K7h",
        "colab_type": "code",
        "colab": {
          "base_uri": "https://localhost:8080/",
          "height": 101
        },
        "outputId": "cb754fb6-972e-4a87-f32c-05acd62b2b95"
      },
      "source": [
        "n=4\n",
        "for i in range(n+1):\n",
        "    for j in range(i):\n",
        "        print (j+i ,end=\" \")\n",
        "    print('')"
      ],
      "execution_count": null,
      "outputs": [
        {
          "output_type": "stream",
          "text": [
            "\n",
            "1 \n",
            "2 3 \n",
            "3 4 5 \n",
            "4 5 6 7 \n"
          ],
          "name": "stdout"
        }
      ]
    },
    {
      "cell_type": "markdown",
      "metadata": {
        "id": "PKiC2s_A3XJT",
        "colab_type": "text"
      },
      "source": [
        "#2 To print the number 4"
      ]
    },
    {
      "cell_type": "code",
      "metadata": {
        "id": "YTT6aCMX3lUz",
        "colab_type": "code",
        "colab": {
          "base_uri": "https://localhost:8080/",
          "height": 84
        },
        "outputId": "73cfbc03-56c2-4f62-c816-3d390f743b44"
      },
      "source": [
        "n=4;\n",
        "for i in range(n):\n",
        "    for j in range(i+1):\n",
        "        print ('* ', end=\"\")\n",
        "    print('')"
      ],
      "execution_count": null,
      "outputs": [
        {
          "output_type": "stream",
          "text": [
            "* \n",
            "* * \n",
            "* * * \n",
            "* * * * \n"
          ],
          "name": "stdout"
        }
      ]
    },
    {
      "cell_type": "markdown",
      "metadata": {
        "id": "IllzLe7c3uYA",
        "colab_type": "text"
      },
      "source": [
        "#3 Backward Numbers n = 5"
      ]
    },
    {
      "cell_type": "code",
      "metadata": {
        "id": "X2C7uvgA3vwg",
        "colab_type": "code",
        "colab": {
          "base_uri": "https://localhost:8080/",
          "height": 118
        },
        "outputId": "3bd6325a-e8fe-4c81-c757-e81d1ae9e54e"
      },
      "source": [
        "n=5\n",
        "for i in range(n+1):\n",
        "    for j in range(i,0,-1 ):\n",
        "        print (n-j+1 ,end=\" \")\n",
        "    print('')"
      ],
      "execution_count": null,
      "outputs": [
        {
          "output_type": "stream",
          "text": [
            "\n",
            "5 \n",
            "4 5 \n",
            "3 4 5 \n",
            "2 3 4 5 \n",
            "1 2 3 4 5 \n"
          ],
          "name": "stdout"
        }
      ]
    },
    {
      "cell_type": "markdown",
      "metadata": {
        "id": "NnciKTNg32-R",
        "colab_type": "text"
      },
      "source": [
        "#4 Enter number 5"
      ]
    },
    {
      "cell_type": "code",
      "metadata": {
        "id": "zWsi9Cei38UW",
        "colab_type": "code",
        "colab": {
          "base_uri": "https://localhost:8080/",
          "height": 101
        },
        "outputId": "db986d12-04d6-4bee-88f9-a0b76585e2a6"
      },
      "source": [
        "n=5;\n",
        "for i in range(n,0,-1):\n",
        "    for j in range(i):\n",
        "        print('{0} '.format(i-j), end=\"\")\n",
        "    print('')"
      ],
      "execution_count": null,
      "outputs": [
        {
          "output_type": "stream",
          "text": [
            "5 4 3 2 1 \n",
            "4 3 2 1 \n",
            "3 2 1 \n",
            "2 1 \n",
            "1 \n"
          ],
          "name": "stdout"
        }
      ]
    },
    {
      "cell_type": "markdown",
      "metadata": {
        "id": "hpyRwYpL4NcC",
        "colab_type": "text"
      },
      "source": [
        "#5 Enter number 4\n"
      ]
    },
    {
      "cell_type": "code",
      "metadata": {
        "id": "AZseFtwa4V22",
        "colab_type": "code",
        "colab": {
          "base_uri": "https://localhost:8080/",
          "height": 168
        },
        "outputId": "c2b1882a-926a-48fc-c591-d3a1836fa8b4"
      },
      "source": [
        "n=int(input(\"Enter the Number:\"));\n",
        "for i in range(0,n+1,1):\n",
        "    print(\"\")\n",
        "    for j in range(i+1,n+1,1):\n",
        "        print(j,end=\" \")\n",
        "    \n",
        "for i in range(1,n):\n",
        "    for j in range(i+1,0,-1):\n",
        "        print(n-j+1,end=\" \")\n",
        "    print('')"
      ],
      "execution_count": null,
      "outputs": [
        {
          "output_type": "stream",
          "text": [
            "Enter the Number:4\n",
            "\n",
            "1 2 3 4 \n",
            "2 3 4 \n",
            "3 4 \n",
            "4 \n",
            "3 4 \n",
            "2 3 4 \n",
            "1 2 3 4 \n"
          ],
          "name": "stdout"
        }
      ]
    },
    {
      "cell_type": "markdown",
      "metadata": {
        "id": "B4DSFd7j4iIh",
        "colab_type": "text"
      },
      "source": [
        "#6 Find the length of a string without using len functions"
      ]
    },
    {
      "cell_type": "code",
      "metadata": {
        "id": "dKyZnE284n4q",
        "colab_type": "code",
        "colab": {
          "base_uri": "https://localhost:8080/",
          "height": 118
        },
        "outputId": "faf371cf-ba3a-4381-972a-5845587fc84c"
      },
      "source": [
        "string=input('Enter the string \\n')\n",
        "char=0\n",
        "word=1\n",
        "for i in string:\n",
        "    char=char+1\n",
        "    if(i==' '):\n",
        "        word=word+1\n",
        "print('Number of word in the string')\n",
        "print(word)\n",
        "print('Number of character in the string')\n",
        "print(char)"
      ],
      "execution_count": null,
      "outputs": [
        {
          "output_type": "stream",
          "text": [
            "Enter the string \n",
            "padma shree\n",
            "Number of word in the string\n",
            "2\n",
            "Number of character in the string\n",
            "11\n"
          ],
          "name": "stdout"
        }
      ]
    },
    {
      "cell_type": "markdown",
      "metadata": {
        "id": "yeAJo_oc47hL",
        "colab_type": "text"
      },
      "source": [
        "#7 Find the no of occurrences of a word in a string"
      ]
    },
    {
      "cell_type": "code",
      "metadata": {
        "id": "Bclv27dz5DB6",
        "colab_type": "code",
        "colab": {
          "base_uri": "https://localhost:8080/",
          "height": 34
        },
        "outputId": "ba32a877-390c-415c-8a0c-4417d36bd5a0"
      },
      "source": [
        "string = \"I am from india . I am student.\"\n",
        "word = \"am\"\n",
        "## splitting the string at space\n",
        "words = string.split()\n",
        "## initializing count variable to 0\n",
        "count = 0\n",
        "## iterating over the list\n",
        "for w in words:\n",
        "   ## checking the match of the words\n",
        "   if w == word:\n",
        "      ## incrementint count on match\n",
        "      count += 1\n",
        "## printing the count\n",
        "print(\"The count is:\", count)"
      ],
      "execution_count": null,
      "outputs": [
        {
          "output_type": "stream",
          "text": [
            "The count is: 2\n"
          ],
          "name": "stdout"
        }
      ]
    },
    {
      "cell_type": "markdown",
      "metadata": {
        "id": "rxDdkazI5yjP",
        "colab_type": "text"
      },
      "source": [
        "#8 Find the length of a string without using len functions"
      ]
    },
    {
      "cell_type": "code",
      "metadata": {
        "id": "a2wHn99r52og",
        "colab_type": "code",
        "colab": {
          "base_uri": "https://localhost:8080/",
          "height": 50
        },
        "outputId": "6ccdae01-cd70-4924-c485-e7110fb8c695"
      },
      "source": [
        "str = input(\"Enter a string\")\n",
        "\n",
        "# counter variable to count the character in a string\n",
        "counter = 0\n",
        "for s in str:\n",
        "      counter = counter+1\n",
        "print(\"Length of the input string is:\", counter)"
      ],
      "execution_count": null,
      "outputs": [
        {
          "output_type": "stream",
          "text": [
            "Enter a string padmashree\n",
            "Length of the input string is: 11\n"
          ],
          "name": "stdout"
        }
      ]
    }
  ]
}